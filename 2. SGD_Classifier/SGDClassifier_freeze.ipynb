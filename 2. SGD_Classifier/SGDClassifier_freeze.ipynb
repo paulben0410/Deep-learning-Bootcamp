{
 "cells": [
  {
   "cell_type": "code",
   "execution_count": 1,
   "id": "26900154",
   "metadata": {},
   "outputs": [
    {
     "data": {
      "text/html": [
       "<div>\n",
       "<style scoped>\n",
       "    .dataframe tbody tr th:only-of-type {\n",
       "        vertical-align: middle;\n",
       "    }\n",
       "\n",
       "    .dataframe tbody tr th {\n",
       "        vertical-align: top;\n",
       "    }\n",
       "\n",
       "    .dataframe thead th {\n",
       "        text-align: right;\n",
       "    }\n",
       "</style>\n",
       "<table border=\"1\" class=\"dataframe\">\n",
       "  <thead>\n",
       "    <tr style=\"text-align: right;\">\n",
       "      <th></th>\n",
       "      <th>외부 대기온도</th>\n",
       "      <th>상대습도</th>\n",
       "      <th>이슬점 온도</th>\n",
       "      <th>풍속</th>\n",
       "      <th>강우량</th>\n",
       "      <th>노면온도1</th>\n",
       "      <th>시편상태</th>\n",
       "      <th>시편상태 요약</th>\n",
       "      <th>날씨</th>\n",
       "    </tr>\n",
       "  </thead>\n",
       "  <tbody>\n",
       "    <tr>\n",
       "      <th>0</th>\n",
       "      <td>-6.4</td>\n",
       "      <td>56</td>\n",
       "      <td>-13.7</td>\n",
       "      <td>0.4</td>\n",
       "      <td>0.0</td>\n",
       "      <td>-8.9</td>\n",
       "      <td>눈</td>\n",
       "      <td>결빙</td>\n",
       "      <td>눈</td>\n",
       "    </tr>\n",
       "    <tr>\n",
       "      <th>1</th>\n",
       "      <td>-6.4</td>\n",
       "      <td>57</td>\n",
       "      <td>-13.5</td>\n",
       "      <td>0.4</td>\n",
       "      <td>0.0</td>\n",
       "      <td>-8.9</td>\n",
       "      <td>눈</td>\n",
       "      <td>결빙</td>\n",
       "      <td>눈</td>\n",
       "    </tr>\n",
       "    <tr>\n",
       "      <th>2</th>\n",
       "      <td>-6.4</td>\n",
       "      <td>59</td>\n",
       "      <td>-13.1</td>\n",
       "      <td>0.4</td>\n",
       "      <td>0.0</td>\n",
       "      <td>-8.9</td>\n",
       "      <td>눈</td>\n",
       "      <td>결빙</td>\n",
       "      <td>눈</td>\n",
       "    </tr>\n",
       "    <tr>\n",
       "      <th>3</th>\n",
       "      <td>-6.4</td>\n",
       "      <td>62</td>\n",
       "      <td>-12.5</td>\n",
       "      <td>0.4</td>\n",
       "      <td>0.0</td>\n",
       "      <td>-8.9</td>\n",
       "      <td>눈</td>\n",
       "      <td>결빙</td>\n",
       "      <td>눈</td>\n",
       "    </tr>\n",
       "    <tr>\n",
       "      <th>4</th>\n",
       "      <td>-6.4</td>\n",
       "      <td>64</td>\n",
       "      <td>-12.1</td>\n",
       "      <td>0.4</td>\n",
       "      <td>0.0</td>\n",
       "      <td>-8.9</td>\n",
       "      <td>눈</td>\n",
       "      <td>결빙</td>\n",
       "      <td>눈</td>\n",
       "    </tr>\n",
       "    <tr>\n",
       "      <th>...</th>\n",
       "      <td>...</td>\n",
       "      <td>...</td>\n",
       "      <td>...</td>\n",
       "      <td>...</td>\n",
       "      <td>...</td>\n",
       "      <td>...</td>\n",
       "      <td>...</td>\n",
       "      <td>...</td>\n",
       "      <td>...</td>\n",
       "    </tr>\n",
       "    <tr>\n",
       "      <th>18689</th>\n",
       "      <td>8.6</td>\n",
       "      <td>92</td>\n",
       "      <td>7.3</td>\n",
       "      <td>2.2</td>\n",
       "      <td>0.0</td>\n",
       "      <td>8.3</td>\n",
       "      <td>습윤</td>\n",
       "      <td>비결빙</td>\n",
       "      <td>비</td>\n",
       "    </tr>\n",
       "    <tr>\n",
       "      <th>18690</th>\n",
       "      <td>8.6</td>\n",
       "      <td>93</td>\n",
       "      <td>7.5</td>\n",
       "      <td>3.6</td>\n",
       "      <td>0.0</td>\n",
       "      <td>8.3</td>\n",
       "      <td>습윤</td>\n",
       "      <td>비결빙</td>\n",
       "      <td>비</td>\n",
       "    </tr>\n",
       "    <tr>\n",
       "      <th>18691</th>\n",
       "      <td>8.6</td>\n",
       "      <td>93</td>\n",
       "      <td>7.5</td>\n",
       "      <td>2.2</td>\n",
       "      <td>0.0</td>\n",
       "      <td>8.3</td>\n",
       "      <td>습윤</td>\n",
       "      <td>비결빙</td>\n",
       "      <td>비</td>\n",
       "    </tr>\n",
       "    <tr>\n",
       "      <th>18692</th>\n",
       "      <td>8.6</td>\n",
       "      <td>93</td>\n",
       "      <td>7.5</td>\n",
       "      <td>2.2</td>\n",
       "      <td>0.0</td>\n",
       "      <td>8.3</td>\n",
       "      <td>습윤</td>\n",
       "      <td>비결빙</td>\n",
       "      <td>비</td>\n",
       "    </tr>\n",
       "    <tr>\n",
       "      <th>18693</th>\n",
       "      <td>8.6</td>\n",
       "      <td>93</td>\n",
       "      <td>7.5</td>\n",
       "      <td>1.8</td>\n",
       "      <td>0.0</td>\n",
       "      <td>8.3</td>\n",
       "      <td>습윤</td>\n",
       "      <td>비결빙</td>\n",
       "      <td>비</td>\n",
       "    </tr>\n",
       "  </tbody>\n",
       "</table>\n",
       "<p>18694 rows × 9 columns</p>\n",
       "</div>"
      ],
      "text/plain": [
       "       외부 대기온도  상대습도  이슬점 온도   풍속  강우량  노면온도1 시편상태 시편상태 요약 날씨\n",
       "0         -6.4    56   -13.7  0.4  0.0   -8.9    눈      결빙  눈\n",
       "1         -6.4    57   -13.5  0.4  0.0   -8.9    눈      결빙  눈\n",
       "2         -6.4    59   -13.1  0.4  0.0   -8.9    눈      결빙  눈\n",
       "3         -6.4    62   -12.5  0.4  0.0   -8.9    눈      결빙  눈\n",
       "4         -6.4    64   -12.1  0.4  0.0   -8.9    눈      결빙  눈\n",
       "...        ...   ...     ...  ...  ...    ...  ...     ... ..\n",
       "18689      8.6    92     7.3  2.2  0.0    8.3   습윤     비결빙  비\n",
       "18690      8.6    93     7.5  3.6  0.0    8.3   습윤     비결빙  비\n",
       "18691      8.6    93     7.5  2.2  0.0    8.3   습윤     비결빙  비\n",
       "18692      8.6    93     7.5  2.2  0.0    8.3   습윤     비결빙  비\n",
       "18693      8.6    93     7.5  1.8  0.0    8.3   습윤     비결빙  비\n",
       "\n",
       "[18694 rows x 9 columns]"
      ]
     },
     "execution_count": 1,
     "metadata": {},
     "output_type": "execute_result"
    }
   ],
   "source": [
    "import numpy as np \n",
    "import pandas as pd\n",
    "\n",
    "standard=pd.read_excel('standard.xlsx',header=1)\n",
    "standard=standard.rename(columns={\"대기온도\" : \"외부 대기온도\", \"대기온도.1\" : \"최대 대기온도\", \"대기온도.2\" : \"최소 대기온도\",\n",
    "                   \"온도\" : \"이슬점 온도\", \"온도1\" : \"노면온도1\", \"온도2\" : \"노면온도2\", \"요약\" : \"시편상태 요약\"})\n",
    "standard=standard.iloc[:,[3,6,7,8,18,35,43,44,45]]\n",
    "\n",
    "standard = standard.replace(\"---\", np.nan)\n",
    "standard=standard.replace(\"확인불가\",np.nan)\n",
    "standard=standard.dropna(axis=0)\n",
    "\n",
    "standard.reset_index(drop=True)"
   ]
  },
  {
   "cell_type": "code",
   "execution_count": 2,
   "id": "895ed58c",
   "metadata": {},
   "outputs": [],
   "source": [
    "temp=standard.drop(labels=['날씨','시편상태'],axis=1)\n",
    "temp.replace('결빙',1,inplace=True)\n",
    "temp.replace('비결빙',0,inplace=True)\n",
    "X=temp.iloc[:,:-1];y=temp.iloc[:,-1]\n",
    "\n",
    "freeze_input=X.to_numpy()\n",
    "freeze_target=y.to_numpy()"
   ]
  },
  {
   "cell_type": "code",
   "execution_count": 3,
   "id": "479b55ed",
   "metadata": {},
   "outputs": [],
   "source": [
    "from sklearn.model_selection import train_test_split\n",
    "\n",
    "train_input, test_input, train_target, test_target=train_test_split(\n",
    "    freeze_input,freeze_target,stratify=freeze_target,random_state=42)"
   ]
  },
  {
   "cell_type": "code",
   "execution_count": 4,
   "id": "6e967a34",
   "metadata": {},
   "outputs": [],
   "source": [
    "from sklearn.preprocessing import StandardScaler\n",
    "\n",
    "ss=StandardScaler()\n",
    "ss.fit(train_input)\n",
    "train_scaled=ss.transform(train_input)\n",
    "test_scaled=ss.transform(test_input)"
   ]
  },
  {
   "cell_type": "code",
   "execution_count": 88,
   "id": "ff2f6187",
   "metadata": {},
   "outputs": [
    {
     "name": "stdout",
     "output_type": "stream",
     "text": [
      "0.9932239657631954\n",
      "0.9910141206675225\n"
     ]
    }
   ],
   "source": [
    "\n",
    "\n",
    "print(sc.score(train_scaled,train_target))\n",
    "print(sc.score(test_scaled,test_target))"
   ]
  },
  {
   "cell_type": "code",
   "execution_count": 89,
   "id": "3f64cd14",
   "metadata": {},
   "outputs": [
    {
     "name": "stdout",
     "output_type": "stream",
     "text": [
      "0.9932239657631954\n",
      "0.9910141206675225\n"
     ]
    }
   ],
   "source": [
    "sc.partial_fit(train_scaled,train_target)\n",
    "print(sc.score(train_scaled,train_target))\n",
    "print(sc.score(test_scaled,test_target))"
   ]
  },
  {
   "cell_type": "code",
   "execution_count": 7,
   "id": "02a5133e",
   "metadata": {},
   "outputs": [
    {
     "data": {
      "image/png": "[encoded data removed]",
      "text/plain": [
       "<Figure size 432x288 with 2 Axes>"
      ]
     },
     "metadata": {
      "needs_background": "light"
     },
     "output_type": "display_data"
    }
   ],
   "source": [
    "from sklearn.linear_model import SGDClassifier\n",
    "\n",
    "sc=SGDClassifier(loss='log',max_iter=100,random_state=42)\n",
    "sc.fit(train_scaled,train_target)\n",
    "\n",
    "train_score=[]\n",
    "test_score=[]\n",
    "classes=np.unique(train_target)\n",
    "\n",
    "for _ in range(0,300):\n",
    "    sc.partial_fit(train_scaled,train_target,classes=classes)\n",
    "    train_score.append(sc.score(train_scaled,train_target))\n",
    "    test_score.append(sc.score(test_scaled,test_target))\n",
    "\n",
    "import matplotlib.pyplot as plt\n",
    "\n",
    "fig,ax1=plt.subplots()\n",
    "color_1='tab:blue'\n",
    "ax1.set_xlabel('epoch')\n",
    "ax1.set_ylabel('accuracy')\n",
    "ax1.plot(train_score,color=color_1)\n",
    "\n",
    "ax2=ax1.twinx()\n",
    "color_2='tab:red'\n",
    "ax2.set_xlabel('epoch')\n",
    "ax2.set_ylabel('accuracy')\n",
    "ax2.plot(test_score,color=color_2)\n",
    "\n",
    "plt.show()"
   ]
  },
  {
   "cell_type": "code",
   "execution_count": 13,
   "id": "2c731265",
   "metadata": {},
   "outputs": [
    {
     "data": {
      "text/plain": [
       "array([0.98994437, 0.98994437, 0.98994437, 0.98994437, 0.98994437,\n",
       "       0.99015832, 0.99015832, 0.99015832, 0.99015832, 0.99015832,\n",
       "       0.99015832, 0.99015832, 0.99015832, 0.99015832, 0.99015832,\n",
       "       0.99015832, 0.99037227, 0.99037227, 0.99037227, 0.99058622,\n",
       "       0.99058622, 0.99058622, 0.99058622, 0.99058622, 0.99037227,\n",
       "       0.99037227, 0.99037227, 0.99037227, 0.99058622, 0.99058622,\n",
       "       0.99058622, 0.99058622, 0.99058622, 0.99058622, 0.99058622,\n",
       "       0.99058622, 0.99080017, 0.99080017, 0.99080017, 0.99080017,\n",
       "       0.99080017, 0.99080017, 0.99080017, 0.99058622, 0.99058622,\n",
       "       0.99058622, 0.99058622, 0.99058622, 0.99058622, 0.99058622,\n",
       "       0.99058622, 0.99058622, 0.99058622, 0.99058622, 0.99058622,\n",
       "       0.99080017, 0.99080017, 0.99080017, 0.99080017, 0.99080017,\n",
       "       0.99080017, 0.99080017, 0.99080017, 0.99101412, 0.99101412,\n",
       "       0.99101412, 0.99101412, 0.99101412, 0.99101412, 0.99101412,\n",
       "       0.99101412, 0.99101412, 0.99101412, 0.99101412, 0.99101412,\n",
       "       0.99101412, 0.99080017, 0.99080017, 0.99080017, 0.99080017,\n",
       "       0.99080017, 0.99080017, 0.99101412, 0.99101412, 0.99101412,\n",
       "       0.99101412, 0.99101412, 0.99101412, 0.99101412, 0.99101412,\n",
       "       0.99101412, 0.99101412, 0.99101412, 0.99101412, 0.99101412,\n",
       "       0.99101412, 0.99122807, 0.99122807, 0.99122807, 0.99122807,\n",
       "       0.99122807, 0.99122807, 0.99122807, 0.99122807, 0.99122807,\n",
       "       0.99122807, 0.99122807, 0.99122807, 0.99122807, 0.99122807,\n",
       "       0.99101412, 0.99101412, 0.99101412, 0.99101412, 0.99101412,\n",
       "       0.99101412, 0.99101412, 0.99101412, 0.99101412, 0.99101412,\n",
       "       0.99101412, 0.99101412, 0.99101412, 0.99101412, 0.99101412,\n",
       "       0.99101412, 0.99101412, 0.99101412, 0.99101412, 0.99101412,\n",
       "       0.99101412, 0.99101412, 0.99101412, 0.99101412, 0.99101412,\n",
       "       0.99101412, 0.99101412, 0.99101412, 0.99101412, 0.99101412,\n",
       "       0.99101412, 0.99101412, 0.99101412, 0.99101412, 0.99101412,\n",
       "       0.99101412, 0.99101412, 0.99101412, 0.99101412, 0.99101412,\n",
       "       0.99101412, 0.99101412, 0.99101412, 0.99101412, 0.99101412,\n",
       "       0.99101412, 0.99101412, 0.99101412, 0.99101412, 0.99101412,\n",
       "       0.99101412, 0.99101412, 0.99101412, 0.99101412, 0.99101412,\n",
       "       0.99101412, 0.99101412, 0.99101412, 0.99101412, 0.99101412,\n",
       "       0.99101412, 0.99101412, 0.99101412, 0.99101412, 0.99101412,\n",
       "       0.99101412, 0.99101412, 0.99101412, 0.99101412, 0.99101412,\n",
       "       0.99101412, 0.99101412, 0.99101412, 0.99101412, 0.99101412,\n",
       "       0.99101412, 0.99101412, 0.99101412, 0.99101412, 0.99101412,\n",
       "       0.99101412, 0.99101412, 0.99101412, 0.99101412, 0.99101412,\n",
       "       0.99101412, 0.99101412, 0.99101412, 0.99101412, 0.99101412,\n",
       "       0.99101412, 0.99101412, 0.99101412, 0.99101412, 0.99101412,\n",
       "       0.99101412, 0.99101412, 0.99101412, 0.99101412, 0.99101412,\n",
       "       0.99101412, 0.99101412, 0.99101412, 0.99101412, 0.99101412,\n",
       "       0.99101412, 0.99101412, 0.99101412, 0.99101412, 0.99101412,\n",
       "       0.99101412, 0.99101412, 0.99101412, 0.99101412, 0.99101412,\n",
       "       0.99101412, 0.99101412, 0.99101412, 0.99101412, 0.99101412,\n",
       "       0.99101412, 0.99101412, 0.99101412, 0.99101412, 0.99101412,\n",
       "       0.99101412, 0.99101412, 0.99101412, 0.99101412, 0.99101412,\n",
       "       0.99101412, 0.99101412, 0.99101412, 0.99101412, 0.99101412,\n",
       "       0.99101412, 0.99101412, 0.99101412, 0.99101412, 0.99101412,\n",
       "       0.99101412, 0.99101412, 0.99101412, 0.99101412, 0.99101412,\n",
       "       0.99101412, 0.99101412, 0.99101412, 0.99101412, 0.99101412,\n",
       "       0.99101412, 0.99101412, 0.99101412, 0.99101412, 0.99101412,\n",
       "       0.99101412, 0.99101412, 0.99101412, 0.99101412, 0.99101412,\n",
       "       0.99101412, 0.99101412, 0.99101412, 0.99101412, 0.99101412,\n",
       "       0.99101412, 0.99101412, 0.99101412, 0.99101412, 0.99101412,\n",
       "       0.99101412, 0.99101412, 0.99101412, 0.99101412, 0.99101412,\n",
       "       0.99101412, 0.99101412, 0.99101412, 0.99101412, 0.99101412,\n",
       "       0.99101412, 0.99101412, 0.99101412, 0.99101412, 0.99101412,\n",
       "       0.99101412, 0.99101412, 0.99101412, 0.99101412, 0.99101412])"
      ]
     },
     "execution_count": 13,
     "metadata": {},
     "output_type": "execute_result"
    }
   ],
   "source": [
    "from sklearn import metrics\n",
    "test_score=np.array(test_score)"
   ]
  },
  {
   "cell_type": "code",
   "execution_count": 20,
   "id": "824d7f22",
   "metadata": {},
   "outputs": [
    {
     "data": {
      "image/png": "[encoded data removed]",
      "text/plain": [
       "<Figure size 432x288 with 1 Axes>"
      ]
     },
     "metadata": {
      "needs_background": "light"
     },
     "output_type": "display_data"
    }
   ],
   "source": [
    "def plot_roc_curve(fper, tper):\n",
    "    plt.plot(fper, tper, color='red', label='ROC')\n",
    "    plt.plot([0, 1], [0, 1], color='green', linestyle='--')\n",
    "    plt.xlabel('False Positive Rate')\n",
    "    plt.ylabel('True Positive Rate')\n",
    "    plt.title('Receiver Operating Characteristic Curve')\n",
    "    plt.legend()\n",
    "    plt.show()\n",
    "prob=sc.predict_proba(test_scaled)\n",
    "prob=prob[:,1]\n",
    "fper,tper,thresholds=metrics.roc_curve(test_target,prob)\n",
    "plot_roc_curve(fper,tper)"
   ]
  },
  {
   "cell_type": "code",
   "execution_count": 16,
   "id": "301dbde6",
   "metadata": {},
   "outputs": [
    {
     "data": {
      "text/plain": [
       "(4674,)"
      ]
     },
     "execution_count": 16,
     "metadata": {},
     "output_type": "execute_result"
    }
   ],
   "source": []
  },
  {
   "cell_type": "code",
   "execution_count": 17,
   "id": "187889ca",
   "metadata": {},
   "outputs": [
    {
     "data": {
      "text/plain": [
       "(300,)"
      ]
     },
     "execution_count": 17,
     "metadata": {},
     "output_type": "execute_result"
    }
   ],
   "source": []
  },
  {
   "cell_type": "code",
   "execution_count": null,
   "id": "e85e890d",
   "metadata": {},
   "outputs": [],
   "source": []
  }
 ],
 "metadata": {
  "kernelspec": {
   "display_name": "Python 3",
   "language": "python",
   "name": "python3"
  },
  "language_info": {
   "codemirror_mode": {
    "name": "ipython",
    "version": 3
   },
   "file_extension": ".py",
   "mimetype": "text/x-python",
   "name": "python",
   "nbconvert_exporter": "python",
   "pygments_lexer": "ipython3",
   "version": "3.8.8"
  }
 },
 "nbformat": 4,
 "nbformat_minor": 5
}
