{
 "cells": [
  {
   "cell_type": "code",
   "execution_count": 74,
   "id": "90a1a72e",
   "metadata": {},
   "outputs": [],
   "source": [
    "import numpy as np\n",
    "import pandas as pd\n",
    "\n",
    "import tensorflow as tf\n",
    "from tensorflow import keras\n",
    "from tensorflow.keras import layers"
   ]
  },
  {
   "cell_type": "markdown",
   "id": "b950c1af",
   "metadata": {},
   "source": [
    "# Load Data"
   ]
  },
  {
   "cell_type": "code",
   "execution_count": 75,
   "id": "1eca6133",
   "metadata": {},
   "outputs": [],
   "source": [
    "df = pd.read_excel('data.xlsx')"
   ]
  },
  {
   "cell_type": "code",
   "execution_count": 76,
   "id": "196cbe14",
   "metadata": {},
   "outputs": [],
   "source": [
    "df.rename(columns=df.iloc[0], inplace=True)"
   ]
  },
  {
   "cell_type": "code",
   "execution_count": 77,
   "id": "776c937b",
   "metadata": {},
   "outputs": [],
   "source": [
    "df = df.drop(df.index[0])\n",
    "df = df.dropna(subset=['label'])\n",
    "df = df.dropna(axis=1)\n",
    "df = df.drop(columns=['번호','날짜','시간','시편상태','요약','수막두께'])\n",
    "df = df.apply(pd.to_numeric)"
   ]
  },
  {
   "cell_type": "code",
   "execution_count": 78,
   "id": "7e7c0631",
   "metadata": {},
   "outputs": [
    {
     "data": {
      "text/html": [
       "<div>\n",
       "<style scoped>\n",
       "    .dataframe tbody tr th:only-of-type {\n",
       "        vertical-align: middle;\n",
       "    }\n",
       "\n",
       "    .dataframe tbody tr th {\n",
       "        vertical-align: top;\n",
       "    }\n",
       "\n",
       "    .dataframe thead th {\n",
       "        text-align: right;\n",
       "    }\n",
       "</style>\n",
       "<table border=\"1\" class=\"dataframe\">\n",
       "  <thead>\n",
       "    <tr style=\"text-align: right;\">\n",
       "      <th></th>\n",
       "      <th>외부 대기온도</th>\n",
       "      <th>최대 대기온도</th>\n",
       "      <th>최소 대기온도</th>\n",
       "      <th>외부 상대습도</th>\n",
       "      <th>이슬점 온도</th>\n",
       "      <th>풍속</th>\n",
       "      <th>풍정</th>\n",
       "      <th>최대풍속</th>\n",
       "      <th>체감온도</th>\n",
       "      <th>열지수</th>\n",
       "      <th>...</th>\n",
       "      <th>In Heat</th>\n",
       "      <th>In EMC</th>\n",
       "      <th>In Air Density</th>\n",
       "      <th>ET</th>\n",
       "      <th>노면 온도1</th>\n",
       "      <th>Wind Samp</th>\n",
       "      <th>Wind Tx</th>\n",
       "      <th>ISS Recept</th>\n",
       "      <th>Arc. Int.</th>\n",
       "      <th>label</th>\n",
       "    </tr>\n",
       "  </thead>\n",
       "  <tbody>\n",
       "    <tr>\n",
       "      <th>1945</th>\n",
       "      <td>-6.4</td>\n",
       "      <td>-6.3</td>\n",
       "      <td>-6.4</td>\n",
       "      <td>56</td>\n",
       "      <td>-13.7</td>\n",
       "      <td>0.4</td>\n",
       "      <td>0.03</td>\n",
       "      <td>0.9</td>\n",
       "      <td>-6.4</td>\n",
       "      <td>-6.7</td>\n",
       "      <td>...</td>\n",
       "      <td>-5.2</td>\n",
       "      <td>-5.2</td>\n",
       "      <td>1.2835</td>\n",
       "      <td>0.0</td>\n",
       "      <td>-8.9</td>\n",
       "      <td>23</td>\n",
       "      <td>1</td>\n",
       "      <td>100.0</td>\n",
       "      <td>1</td>\n",
       "      <td>1</td>\n",
       "    </tr>\n",
       "    <tr>\n",
       "      <th>1946</th>\n",
       "      <td>-6.4</td>\n",
       "      <td>-6.3</td>\n",
       "      <td>-6.4</td>\n",
       "      <td>57</td>\n",
       "      <td>-13.5</td>\n",
       "      <td>0.4</td>\n",
       "      <td>0.03</td>\n",
       "      <td>0.9</td>\n",
       "      <td>-6.4</td>\n",
       "      <td>-6.7</td>\n",
       "      <td>...</td>\n",
       "      <td>-5.2</td>\n",
       "      <td>-5.2</td>\n",
       "      <td>1.2833</td>\n",
       "      <td>0.0</td>\n",
       "      <td>-8.9</td>\n",
       "      <td>22</td>\n",
       "      <td>1</td>\n",
       "      <td>95.7</td>\n",
       "      <td>1</td>\n",
       "      <td>1</td>\n",
       "    </tr>\n",
       "    <tr>\n",
       "      <th>1947</th>\n",
       "      <td>-6.4</td>\n",
       "      <td>-6.4</td>\n",
       "      <td>-6.4</td>\n",
       "      <td>59</td>\n",
       "      <td>-13.1</td>\n",
       "      <td>0.4</td>\n",
       "      <td>0.03</td>\n",
       "      <td>1.3</td>\n",
       "      <td>-6.4</td>\n",
       "      <td>-6.7</td>\n",
       "      <td>...</td>\n",
       "      <td>-5.2</td>\n",
       "      <td>-5.2</td>\n",
       "      <td>1.2831</td>\n",
       "      <td>0.0</td>\n",
       "      <td>-8.9</td>\n",
       "      <td>24</td>\n",
       "      <td>1</td>\n",
       "      <td>100.0</td>\n",
       "      <td>1</td>\n",
       "      <td>1</td>\n",
       "    </tr>\n",
       "    <tr>\n",
       "      <th>1948</th>\n",
       "      <td>-6.4</td>\n",
       "      <td>-6.4</td>\n",
       "      <td>-6.4</td>\n",
       "      <td>62</td>\n",
       "      <td>-12.5</td>\n",
       "      <td>0.4</td>\n",
       "      <td>0.03</td>\n",
       "      <td>0.9</td>\n",
       "      <td>-6.4</td>\n",
       "      <td>-6.6</td>\n",
       "      <td>...</td>\n",
       "      <td>-5.2</td>\n",
       "      <td>-5.2</td>\n",
       "      <td>1.2831</td>\n",
       "      <td>0.0</td>\n",
       "      <td>-8.9</td>\n",
       "      <td>20</td>\n",
       "      <td>1</td>\n",
       "      <td>87.0</td>\n",
       "      <td>1</td>\n",
       "      <td>1</td>\n",
       "    </tr>\n",
       "    <tr>\n",
       "      <th>1949</th>\n",
       "      <td>-6.4</td>\n",
       "      <td>-6.4</td>\n",
       "      <td>-6.4</td>\n",
       "      <td>64</td>\n",
       "      <td>-12.1</td>\n",
       "      <td>0.4</td>\n",
       "      <td>0.03</td>\n",
       "      <td>0.9</td>\n",
       "      <td>-6.4</td>\n",
       "      <td>-6.7</td>\n",
       "      <td>...</td>\n",
       "      <td>-5.2</td>\n",
       "      <td>-5.2</td>\n",
       "      <td>1.2829</td>\n",
       "      <td>0.0</td>\n",
       "      <td>-8.9</td>\n",
       "      <td>23</td>\n",
       "      <td>1</td>\n",
       "      <td>100.0</td>\n",
       "      <td>1</td>\n",
       "      <td>1</td>\n",
       "    </tr>\n",
       "  </tbody>\n",
       "</table>\n",
       "<p>5 rows × 36 columns</p>\n",
       "</div>"
      ],
      "text/plain": [
       "      외부 대기온도  최대 대기온도  최소 대기온도  외부 상대습도  이슬점 온도   풍속    풍정  최대풍속  체감온도  열지수  \\\n",
       "1945     -6.4     -6.3     -6.4       56   -13.7  0.4  0.03   0.9  -6.4 -6.7   \n",
       "1946     -6.4     -6.3     -6.4       57   -13.5  0.4  0.03   0.9  -6.4 -6.7   \n",
       "1947     -6.4     -6.4     -6.4       59   -13.1  0.4  0.03   1.3  -6.4 -6.7   \n",
       "1948     -6.4     -6.4     -6.4       62   -12.5  0.4  0.03   0.9  -6.4 -6.6   \n",
       "1949     -6.4     -6.4     -6.4       64   -12.1  0.4  0.03   0.9  -6.4 -6.7   \n",
       "\n",
       "      ...  In Heat  In EMC  In Air Density  ET   노면 온도1  Wind Samp  Wind Tx  \\\n",
       "1945  ...     -5.2    -5.2          1.2835  0.0    -8.9         23        1   \n",
       "1946  ...     -5.2    -5.2          1.2833  0.0    -8.9         22        1   \n",
       "1947  ...     -5.2    -5.2          1.2831  0.0    -8.9         24        1   \n",
       "1948  ...     -5.2    -5.2          1.2831  0.0    -8.9         20        1   \n",
       "1949  ...     -5.2    -5.2          1.2829  0.0    -8.9         23        1   \n",
       "\n",
       "      ISS Recept  Arc. Int.  label  \n",
       "1945       100.0          1      1  \n",
       "1946        95.7          1      1  \n",
       "1947       100.0          1      1  \n",
       "1948        87.0          1      1  \n",
       "1949       100.0          1      1  \n",
       "\n",
       "[5 rows x 36 columns]"
      ]
     },
     "execution_count": 78,
     "metadata": {},
     "output_type": "execute_result"
    }
   ],
   "source": [
    "df.head()"
   ]
  },
  {
   "cell_type": "markdown",
   "id": "8a011a47",
   "metadata": {},
   "source": [
    "# Train / Test Split"
   ]
  },
  {
   "cell_type": "code",
   "execution_count": 79,
   "id": "995f3499",
   "metadata": {},
   "outputs": [],
   "source": [
    "X = df.drop('label',axis=1).values\n",
    "y = df['label'].values\n",
    "\n",
    "from sklearn.model_selection import train_test_split\n",
    "X_train, X_test, y_train, y_test = train_test_split(X,y,test_size=0.25,stratify=y)"
   ]
  },
  {
   "cell_type": "code",
   "execution_count": 80,
   "id": "bd6dc1ab",
   "metadata": {},
   "outputs": [
    {
     "data": {
      "text/plain": [
       "(29255, 35)"
      ]
     },
     "execution_count": 80,
     "metadata": {},
     "output_type": "execute_result"
    }
   ],
   "source": [
    "X_train.shape"
   ]
  },
  {
   "cell_type": "code",
   "execution_count": 81,
   "id": "854839dc",
   "metadata": {},
   "outputs": [],
   "source": [
    "X_train = X_train.astype(float)\n",
    "y_train = y_train.astype(float)\n",
    "\n",
    "X_test = X_test.astype(float)\n",
    "y_test = y_test.astype(float)"
   ]
  },
  {
   "cell_type": "code",
   "execution_count": 82,
   "id": "15e35c48",
   "metadata": {},
   "outputs": [],
   "source": [
    "y_train = np.array(y_train)\n",
    "y_test = np.array(y_test) "
   ]
  },
  {
   "cell_type": "code",
   "execution_count": 83,
   "id": "5b5db5ea",
   "metadata": {},
   "outputs": [],
   "source": [
    "X_train = np.array(X_train, dtype='float64')\n",
    "X_test = np.array(X_test, dtype='float64')"
   ]
  },
  {
   "cell_type": "code",
   "execution_count": 84,
   "id": "693d4a7a",
   "metadata": {
    "scrolled": true
   },
   "outputs": [
    {
     "data": {
      "text/plain": [
       "array([[-19.4, -19.4, -19.5, ...,   1. ,  95.7,   1. ],\n",
       "       [ -7.1,  -7.1,  -7.1, ...,   1. ,  91.3,   1. ],\n",
       "       [-17.9, -17.9, -18. , ...,   1. , 100. ,   1. ],\n",
       "       ...,\n",
       "       [ -9.4,  -9.4,  -9.4, ...,   2. , 100. ,   1. ],\n",
       "       [ -9.4,  -9.4,  -9.5, ...,   1. , 100. ,   5. ],\n",
       "       [-18.9, -18.9, -18.9, ...,   1. ,  91.3,   1. ]])"
      ]
     },
     "execution_count": 84,
     "metadata": {},
     "output_type": "execute_result"
    }
   ],
   "source": [
    "X_train"
   ]
  },
  {
   "cell_type": "code",
   "execution_count": 85,
   "id": "fc25a17a",
   "metadata": {
    "scrolled": true
   },
   "outputs": [
    {
     "data": {
      "text/plain": [
       "array([1., 1., 1., ..., 1., 0., 1.])"
      ]
     },
     "execution_count": 85,
     "metadata": {},
     "output_type": "execute_result"
    }
   ],
   "source": [
    "y_train"
   ]
  },
  {
   "cell_type": "markdown",
   "id": "f6736bb1",
   "metadata": {},
   "source": [
    "# Scaling / Normalizing Data"
   ]
  },
  {
   "cell_type": "code",
   "execution_count": 86,
   "id": "d2b9a509",
   "metadata": {
    "scrolled": true
   },
   "outputs": [],
   "source": [
    "#from sklearn.preprocessing import MinMaxScaler\n",
    "#scaler = MinMaxScaler()\n",
    "\n",
    "# only fit scaler to the training set\n",
    "\n",
    "#scaler.fit(X_train)\n",
    "#X_train = scaler.transform(X_train)\n",
    "#X_test = scaler.transform(X_test)"
   ]
  },
  {
   "cell_type": "code",
   "execution_count": 87,
   "id": "6c84dd57",
   "metadata": {},
   "outputs": [],
   "source": [
    "from sklearn.preprocessing import RobustScaler\n",
    "scaler = RobustScaler()\n",
    "\n",
    "# only fit scaler to the training set\n",
    "\n",
    "scaler.fit(X_train)\n",
    "X_train = scaler.transform(X_train)\n",
    "X_test = scaler.transform(X_test)"
   ]
  },
  {
   "cell_type": "markdown",
   "id": "4551e040",
   "metadata": {},
   "source": [
    "# Reshape for LSTM"
   ]
  },
  {
   "cell_type": "code",
   "execution_count": 55,
   "id": "72be33d3",
   "metadata": {},
   "outputs": [
    {
     "data": {
      "text/plain": [
       "29225"
      ]
     },
     "execution_count": 55,
     "metadata": {},
     "output_type": "execute_result"
    }
   ],
   "source": [
    "835 * 35"
   ]
  },
  {
   "cell_type": "code",
   "execution_count": 56,
   "id": "9d6434b5",
   "metadata": {},
   "outputs": [],
   "source": [
    "X_train = np.delete(X_train,np.s_[:30], axis=0)\n",
    "y_train = np.delete(y_train,np.s_[:30], axis=0)"
   ]
  },
  {
   "cell_type": "code",
   "execution_count": 57,
   "id": "c4cde376",
   "metadata": {},
   "outputs": [
    {
     "name": "stdout",
     "output_type": "stream",
     "text": [
      "X_train shape : (29225, 35)\n",
      "y_train shape : (29225,)\n",
      "X_test shape : (9752, 35)\n",
      "y_test shape : (9752,)\n"
     ]
    }
   ],
   "source": [
    "print(\"X_train shape :\",X_train.shape) # Features = 35\n",
    "print(\"y_train shape :\",y_train.shape)\n",
    "\n",
    "print(\"X_test shape :\",X_test.shape)\n",
    "print(\"y_test shape :\",y_test.shape)"
   ]
  },
  {
   "cell_type": "code",
   "execution_count": 59,
   "id": "fb964c27",
   "metadata": {},
   "outputs": [],
   "source": [
    "time_steps = 1\n",
    "\n",
    "X_train = X_train.reshape((-1, time_steps, X_train.shape[1]))\n",
    "X_test = X_test.reshape((-1, time_steps, X_test.shape[1]))\n",
    "# shape(data_size, time_steps, features)"
   ]
  },
  {
   "cell_type": "code",
   "execution_count": 60,
   "id": "df05446f",
   "metadata": {
    "scrolled": false
   },
   "outputs": [
    {
     "data": {
      "text/plain": [
       "(29225, 1, 35)"
      ]
     },
     "execution_count": 60,
     "metadata": {},
     "output_type": "execute_result"
    }
   ],
   "source": [
    "X_train.shape"
   ]
  },
  {
   "cell_type": "code",
   "execution_count": 61,
   "id": "d5cfcf83",
   "metadata": {
    "scrolled": true
   },
   "outputs": [],
   "source": [
    "y_train = y_train.reshape(-1,1)\n",
    "y_test = y_test.reshape(-1,1)"
   ]
  },
  {
   "cell_type": "code",
   "execution_count": 62,
   "id": "b6d78399",
   "metadata": {},
   "outputs": [
    {
     "data": {
      "text/plain": [
       "(29225, 1)"
      ]
     },
     "execution_count": 62,
     "metadata": {},
     "output_type": "execute_result"
    }
   ],
   "source": [
    "y_train.shape"
   ]
  },
  {
   "cell_type": "code",
   "execution_count": 63,
   "id": "85cd3568",
   "metadata": {},
   "outputs": [
    {
     "data": {
      "text/plain": [
       "(9752, 1)"
      ]
     },
     "execution_count": 63,
     "metadata": {},
     "output_type": "execute_result"
    }
   ],
   "source": [
    "y_test.shape"
   ]
  },
  {
   "cell_type": "markdown",
   "id": "7c2e04e2",
   "metadata": {},
   "source": [
    "# Building Model"
   ]
  },
  {
   "cell_type": "code",
   "execution_count": 64,
   "id": "6237a24d",
   "metadata": {},
   "outputs": [],
   "source": [
    "from keras.callbacks import EarlyStopping\n",
    "early_stopping = EarlyStopping(monitor='loss', patience=10, mode='min')\n"
   ]
  },
  {
   "cell_type": "code",
   "execution_count": 65,
   "id": "bcf839c5",
   "metadata": {
    "scrolled": true
   },
   "outputs": [],
   "source": [
    "from tensorflow.keras.layers import Dense, Activation, Dropout, Bidirectional, GlobalMaxPool1D\n",
    "\n",
    "model = keras.models.Sequential()\n",
    "\n",
    "model.add(keras.layers.Bidirectional(keras.layers.LSTM(units=32, return_sequences=True, input_shape=(1, 35)))) # Timesteps = 1, Features = 35\n",
    "\n",
    "model.add(keras.layers.Bidirectional(keras.layers.LSTM(units=16, return_sequences=True)))\n",
    "\n",
    "model.add(keras.layers.Bidirectional(keras.layers.LSTM(units=8, return_sequences=True)))\n",
    "\n",
    "model.add(keras.layers.Bidirectional(keras.layers.LSTM(units=4)))\n",
    "\n",
    "model.add(Dense(4, activation='tanh'))\n",
    "\n",
    "model.add(Dense(1, activation='sigmoid'))\n",
    "\n",
    "model.compile(optimizer='adam',\n",
    "              loss='binary_crossentropy', \n",
    "              metrics=['accuracy'])"
   ]
  },
  {
   "cell_type": "code",
   "execution_count": 66,
   "id": "fee31028",
   "metadata": {},
   "outputs": [
    {
     "name": "stdout",
     "output_type": "stream",
     "text": [
      "Epoch 1/50\n"
     ]
    },
    {
     "name": "stderr",
     "output_type": "stream",
     "text": [
      "2022-08-04 15:06:21.191402: I tensorflow/core/grappler/optimizers/custom_graph_optimizer_registry.cc:113] Plugin optimizer for device_type GPU is enabled.\n",
      "2022-08-04 15:06:21.973974: I tensorflow/core/grappler/optimizers/custom_graph_optimizer_registry.cc:113] Plugin optimizer for device_type GPU is enabled.\n",
      "2022-08-04 15:06:21.992022: I tensorflow/core/grappler/optimizers/custom_graph_optimizer_registry.cc:113] Plugin optimizer for device_type GPU is enabled.\n",
      "2022-08-04 15:06:22.073686: I tensorflow/core/grappler/optimizers/custom_graph_optimizer_registry.cc:113] Plugin optimizer for device_type GPU is enabled.\n",
      "2022-08-04 15:06:22.086267: I tensorflow/core/grappler/optimizers/custom_graph_optimizer_registry.cc:113] Plugin optimizer for device_type GPU is enabled.\n",
      "2022-08-04 15:06:22.172633: I tensorflow/core/grappler/optimizers/custom_graph_optimizer_registry.cc:113] Plugin optimizer for device_type GPU is enabled.\n",
      "2022-08-04 15:06:22.185422: I tensorflow/core/grappler/optimizers/custom_graph_optimizer_registry.cc:113] Plugin optimizer for device_type GPU is enabled.\n",
      "2022-08-04 15:06:22.280311: I tensorflow/core/grappler/optimizers/custom_graph_optimizer_registry.cc:113] Plugin optimizer for device_type GPU is enabled.\n",
      "2022-08-04 15:06:22.291187: I tensorflow/core/grappler/optimizers/custom_graph_optimizer_registry.cc:113] Plugin optimizer for device_type GPU is enabled.\n",
      "2022-08-04 15:06:22.541995: I tensorflow/core/grappler/optimizers/custom_graph_optimizer_registry.cc:113] Plugin optimizer for device_type GPU is enabled.\n",
      "2022-08-04 15:06:22.557916: I tensorflow/core/grappler/optimizers/custom_graph_optimizer_registry.cc:113] Plugin optimizer for device_type GPU is enabled.\n",
      "2022-08-04 15:06:22.688312: I tensorflow/core/grappler/optimizers/custom_graph_optimizer_registry.cc:113] Plugin optimizer for device_type GPU is enabled.\n",
      "2022-08-04 15:06:22.705145: I tensorflow/core/grappler/optimizers/custom_graph_optimizer_registry.cc:113] Plugin optimizer for device_type GPU is enabled.\n",
      "2022-08-04 15:06:22.819964: I tensorflow/core/grappler/optimizers/custom_graph_optimizer_registry.cc:113] Plugin optimizer for device_type GPU is enabled.\n",
      "2022-08-04 15:06:22.837977: I tensorflow/core/grappler/optimizers/custom_graph_optimizer_registry.cc:113] Plugin optimizer for device_type GPU is enabled.\n",
      "2022-08-04 15:06:22.939149: I tensorflow/core/grappler/optimizers/custom_graph_optimizer_registry.cc:113] Plugin optimizer for device_type GPU is enabled.\n",
      "2022-08-04 15:06:22.954904: I tensorflow/core/grappler/optimizers/custom_graph_optimizer_registry.cc:113] Plugin optimizer for device_type GPU is enabled.\n",
      "2022-08-04 15:06:27.059702: I tensorflow/core/grappler/optimizers/custom_graph_optimizer_registry.cc:113] Plugin optimizer for device_type GPU is enabled.\n",
      "2022-08-04 15:06:27.335188: I tensorflow/core/grappler/optimizers/custom_graph_optimizer_registry.cc:113] Plugin optimizer for device_type GPU is enabled.\n",
      "2022-08-04 15:06:27.343212: I tensorflow/core/grappler/optimizers/custom_graph_optimizer_registry.cc:113] Plugin optimizer for device_type GPU is enabled.\n",
      "2022-08-04 15:06:27.386291: I tensorflow/core/grappler/optimizers/custom_graph_optimizer_registry.cc:113] Plugin optimizer for device_type GPU is enabled.\n",
      "2022-08-04 15:06:27.393687: I tensorflow/core/grappler/optimizers/custom_graph_optimizer_registry.cc:113] Plugin optimizer for device_type GPU is enabled.\n",
      "2022-08-04 15:06:27.435772: I tensorflow/core/grappler/optimizers/custom_graph_optimizer_registry.cc:113] Plugin optimizer for device_type GPU is enabled.\n",
      "2022-08-04 15:06:27.443826: I tensorflow/core/grappler/optimizers/custom_graph_optimizer_registry.cc:113] Plugin optimizer for device_type GPU is enabled.\n",
      "2022-08-04 15:06:27.489602: I tensorflow/core/grappler/optimizers/custom_graph_optimizer_registry.cc:113] Plugin optimizer for device_type GPU is enabled.\n",
      "2022-08-04 15:06:27.497208: I tensorflow/core/grappler/optimizers/custom_graph_optimizer_registry.cc:113] Plugin optimizer for device_type GPU is enabled.\n"
     ]
    },
    {
     "name": "stdout",
     "output_type": "stream",
     "text": [
      "92/92 - 15s - loss: 0.5272 - accuracy: 0.8061 - val_loss: 0.3170 - val_accuracy: 0.9061 - 15s/epoch - 166ms/step\n",
      "Epoch 2/50\n",
      "92/92 - 3s - loss: 0.2558 - accuracy: 0.9092 - val_loss: 0.2128 - val_accuracy: 0.9196 - 3s/epoch - 33ms/step\n",
      "Epoch 3/50\n",
      "92/92 - 3s - loss: 0.1911 - accuracy: 0.9241 - val_loss: 0.1661 - val_accuracy: 0.9386 - 3s/epoch - 33ms/step\n",
      "Epoch 4/50\n",
      "92/92 - 3s - loss: 0.1612 - accuracy: 0.9361 - val_loss: 0.1479 - val_accuracy: 0.9458 - 3s/epoch - 33ms/step\n",
      "Epoch 5/50\n",
      "92/92 - 3s - loss: 0.1436 - accuracy: 0.9469 - val_loss: 0.1341 - val_accuracy: 0.9533 - 3s/epoch - 36ms/step\n",
      "Epoch 6/50\n",
      "92/92 - 3s - loss: 0.1308 - accuracy: 0.9527 - val_loss: 0.1253 - val_accuracy: 0.9545 - 3s/epoch - 35ms/step\n",
      "Epoch 7/50\n",
      "92/92 - 3s - loss: 0.1216 - accuracy: 0.9559 - val_loss: 0.1217 - val_accuracy: 0.9567 - 3s/epoch - 36ms/step\n",
      "Epoch 8/50\n",
      "92/92 - 3s - loss: 0.1118 - accuracy: 0.9605 - val_loss: 0.1137 - val_accuracy: 0.9572 - 3s/epoch - 34ms/step\n",
      "Epoch 9/50\n",
      "92/92 - 3s - loss: 0.1032 - accuracy: 0.9633 - val_loss: 0.1038 - val_accuracy: 0.9608 - 3s/epoch - 37ms/step\n",
      "Epoch 10/50\n",
      "92/92 - 3s - loss: 0.0945 - accuracy: 0.9648 - val_loss: 0.0945 - val_accuracy: 0.9639 - 3s/epoch - 36ms/step\n",
      "Epoch 11/50\n",
      "92/92 - 3s - loss: 0.0880 - accuracy: 0.9664 - val_loss: 0.0887 - val_accuracy: 0.9675 - 3s/epoch - 33ms/step\n",
      "Epoch 12/50\n",
      "92/92 - 3s - loss: 0.0831 - accuracy: 0.9678 - val_loss: 0.0831 - val_accuracy: 0.9682 - 3s/epoch - 33ms/step\n",
      "Epoch 13/50\n",
      "92/92 - 3s - loss: 0.0748 - accuracy: 0.9716 - val_loss: 0.0783 - val_accuracy: 0.9711 - 3s/epoch - 33ms/step\n",
      "Epoch 14/50\n",
      "92/92 - 3s - loss: 0.0701 - accuracy: 0.9740 - val_loss: 0.0715 - val_accuracy: 0.9750 - 3s/epoch - 32ms/step\n",
      "Epoch 15/50\n",
      "92/92 - 3s - loss: 0.0663 - accuracy: 0.9765 - val_loss: 0.0809 - val_accuracy: 0.9704 - 3s/epoch - 33ms/step\n",
      "Epoch 16/50\n",
      "92/92 - 3s - loss: 0.0657 - accuracy: 0.9758 - val_loss: 0.0659 - val_accuracy: 0.9762 - 3s/epoch - 33ms/step\n",
      "Epoch 17/50\n",
      "92/92 - 3s - loss: 0.0623 - accuracy: 0.9782 - val_loss: 0.0650 - val_accuracy: 0.9781 - 3s/epoch - 33ms/step\n",
      "Epoch 18/50\n",
      "92/92 - 3s - loss: 0.0590 - accuracy: 0.9786 - val_loss: 0.0638 - val_accuracy: 0.9755 - 3s/epoch - 33ms/step\n",
      "Epoch 19/50\n",
      "92/92 - 3s - loss: 0.0567 - accuracy: 0.9790 - val_loss: 0.0646 - val_accuracy: 0.9778 - 3s/epoch - 36ms/step\n",
      "Epoch 20/50\n",
      "92/92 - 3s - loss: 0.0542 - accuracy: 0.9807 - val_loss: 0.0607 - val_accuracy: 0.9778 - 3s/epoch - 36ms/step\n",
      "Epoch 21/50\n",
      "92/92 - 3s - loss: 0.0547 - accuracy: 0.9799 - val_loss: 0.0627 - val_accuracy: 0.9760 - 3s/epoch - 35ms/step\n",
      "Epoch 22/50\n",
      "92/92 - 3s - loss: 0.0524 - accuracy: 0.9812 - val_loss: 0.0600 - val_accuracy: 0.9783 - 3s/epoch - 35ms/step\n",
      "Epoch 23/50\n",
      "92/92 - 3s - loss: 0.0522 - accuracy: 0.9813 - val_loss: 0.0548 - val_accuracy: 0.9795 - 3s/epoch - 34ms/step\n",
      "Epoch 24/50\n",
      "92/92 - 3s - loss: 0.0513 - accuracy: 0.9820 - val_loss: 0.0629 - val_accuracy: 0.9778 - 3s/epoch - 33ms/step\n",
      "Epoch 25/50\n",
      "92/92 - 3s - loss: 0.0530 - accuracy: 0.9804 - val_loss: 0.0544 - val_accuracy: 0.9793 - 3s/epoch - 33ms/step\n",
      "Epoch 26/50\n",
      "92/92 - 3s - loss: 0.0494 - accuracy: 0.9825 - val_loss: 0.0552 - val_accuracy: 0.9796 - 3s/epoch - 33ms/step\n",
      "Epoch 27/50\n",
      "92/92 - 3s - loss: 0.0473 - accuracy: 0.9831 - val_loss: 0.0535 - val_accuracy: 0.9807 - 3s/epoch - 33ms/step\n",
      "Epoch 28/50\n",
      "92/92 - 3s - loss: 0.0463 - accuracy: 0.9836 - val_loss: 0.0515 - val_accuracy: 0.9812 - 3s/epoch - 33ms/step\n",
      "Epoch 29/50\n",
      "92/92 - 3s - loss: 0.0450 - accuracy: 0.9845 - val_loss: 0.0493 - val_accuracy: 0.9829 - 3s/epoch - 33ms/step\n",
      "Epoch 30/50\n",
      "92/92 - 3s - loss: 0.0444 - accuracy: 0.9842 - val_loss: 0.0522 - val_accuracy: 0.9805 - 3s/epoch - 33ms/step\n",
      "Epoch 31/50\n",
      "92/92 - 3s - loss: 0.0447 - accuracy: 0.9840 - val_loss: 0.0548 - val_accuracy: 0.9803 - 3s/epoch - 33ms/step\n",
      "Epoch 32/50\n",
      "92/92 - 3s - loss: 0.0424 - accuracy: 0.9855 - val_loss: 0.0492 - val_accuracy: 0.9827 - 3s/epoch - 33ms/step\n",
      "Epoch 33/50\n",
      "92/92 - 3s - loss: 0.0431 - accuracy: 0.9850 - val_loss: 0.0495 - val_accuracy: 0.9829 - 3s/epoch - 33ms/step\n",
      "Epoch 34/50\n",
      "92/92 - 3s - loss: 0.0444 - accuracy: 0.9854 - val_loss: 0.0492 - val_accuracy: 0.9831 - 3s/epoch - 33ms/step\n",
      "Epoch 35/50\n",
      "92/92 - 3s - loss: 0.0409 - accuracy: 0.9861 - val_loss: 0.0528 - val_accuracy: 0.9817 - 3s/epoch - 33ms/step\n",
      "Epoch 36/50\n",
      "92/92 - 3s - loss: 0.0394 - accuracy: 0.9867 - val_loss: 0.0502 - val_accuracy: 0.9832 - 3s/epoch - 33ms/step\n",
      "Epoch 37/50\n",
      "92/92 - 3s - loss: 0.0412 - accuracy: 0.9859 - val_loss: 0.0467 - val_accuracy: 0.9860 - 3s/epoch - 34ms/step\n",
      "Epoch 38/50\n",
      "92/92 - 3s - loss: 0.0375 - accuracy: 0.9878 - val_loss: 0.0480 - val_accuracy: 0.9825 - 3s/epoch - 34ms/step\n",
      "Epoch 39/50\n",
      "92/92 - 4s - loss: 0.0381 - accuracy: 0.9866 - val_loss: 0.0428 - val_accuracy: 0.9861 - 4s/epoch - 40ms/step\n",
      "Epoch 40/50\n",
      "92/92 - 4s - loss: 0.0371 - accuracy: 0.9883 - val_loss: 0.0502 - val_accuracy: 0.9824 - 4s/epoch - 41ms/step\n",
      "Epoch 41/50\n",
      "92/92 - 4s - loss: 0.0375 - accuracy: 0.9873 - val_loss: 0.0439 - val_accuracy: 0.9863 - 4s/epoch - 42ms/step\n",
      "Epoch 42/50\n",
      "92/92 - 4s - loss: 0.0375 - accuracy: 0.9878 - val_loss: 0.0457 - val_accuracy: 0.9846 - 4s/epoch - 38ms/step\n",
      "Epoch 43/50\n",
      "92/92 - 4s - loss: 0.0360 - accuracy: 0.9886 - val_loss: 0.0551 - val_accuracy: 0.9824 - 4s/epoch - 39ms/step\n",
      "Epoch 44/50\n",
      "92/92 - 3s - loss: 0.0352 - accuracy: 0.9889 - val_loss: 0.0417 - val_accuracy: 0.9882 - 3s/epoch - 35ms/step\n",
      "Epoch 45/50\n",
      "92/92 - 3s - loss: 0.0330 - accuracy: 0.9896 - val_loss: 0.0420 - val_accuracy: 0.9860 - 3s/epoch - 34ms/step\n",
      "Epoch 46/50\n",
      "92/92 - 3s - loss: 0.0313 - accuracy: 0.9902 - val_loss: 0.0412 - val_accuracy: 0.9877 - 3s/epoch - 35ms/step\n",
      "Epoch 47/50\n",
      "92/92 - 3s - loss: 0.0315 - accuracy: 0.9891 - val_loss: 0.0412 - val_accuracy: 0.9875 - 3s/epoch - 37ms/step\n",
      "Epoch 48/50\n",
      "92/92 - 3s - loss: 0.0300 - accuracy: 0.9906 - val_loss: 0.0386 - val_accuracy: 0.9879 - 3s/epoch - 38ms/step\n",
      "Epoch 49/50\n",
      "92/92 - 4s - loss: 0.0295 - accuracy: 0.9899 - val_loss: 0.0463 - val_accuracy: 0.9827 - 4s/epoch - 40ms/step\n",
      "Epoch 50/50\n",
      "92/92 - 4s - loss: 0.0310 - accuracy: 0.9896 - val_loss: 0.0393 - val_accuracy: 0.9880 - 4s/epoch - 41ms/step\n"
     ]
    }
   ],
   "source": [
    "epochs = 50\n",
    "batch_size = 256\n",
    "\n",
    "history=model.fit(X_train, y_train, validation_split=0.2, epochs=epochs, batch_size=batch_size, verbose=2)"
   ]
  },
  {
   "cell_type": "code",
   "execution_count": 67,
   "id": "8ff164b1",
   "metadata": {
    "scrolled": true
   },
   "outputs": [
    {
     "name": "stdout",
     "output_type": "stream",
     "text": [
      "Model: \"sequential_1\"\n",
      "_________________________________________________________________\n",
      " Layer (type)                Output Shape              Param #   \n",
      "=================================================================\n",
      " bidirectional_4 (Bidirectio  (None, 1, 64)            17408     \n",
      " nal)                                                            \n",
      "                                                                 \n",
      " bidirectional_5 (Bidirectio  (None, 1, 32)            10368     \n",
      " nal)                                                            \n",
      "                                                                 \n",
      " bidirectional_6 (Bidirectio  (None, 1, 16)            2624      \n",
      " nal)                                                            \n",
      "                                                                 \n",
      " bidirectional_7 (Bidirectio  (None, 8)                672       \n",
      " nal)                                                            \n",
      "                                                                 \n",
      " dense_2 (Dense)             (None, 4)                 36        \n",
      "                                                                 \n",
      " dense_3 (Dense)             (None, 1)                 5         \n",
      "                                                                 \n",
      "=================================================================\n",
      "Total params: 31,113\n",
      "Trainable params: 31,113\n",
      "Non-trainable params: 0\n",
      "_________________________________________________________________\n",
      "(29225, 1, 35) (29225, 1)\n"
     ]
    }
   ],
   "source": [
    "model.summary()\n",
    "print(X_train.shape, y_train.shape)"
   ]
  },
  {
   "cell_type": "markdown",
   "id": "31a2396a",
   "metadata": {},
   "source": [
    "# Evaluate Model"
   ]
  },
  {
   "cell_type": "code",
   "execution_count": 68,
   "id": "dba5c35f",
   "metadata": {},
   "outputs": [],
   "source": [
    "import seaborn as sns\n",
    "import matplotlib.pyplot as plt"
   ]
  },
  {
   "cell_type": "code",
   "execution_count": 69,
   "id": "a53d414f",
   "metadata": {},
   "outputs": [
    {
     "data": {
      "image/png": "[encoded data removed]",
      "text/plain": [
       "<Figure size 576x432 with 1 Axes>"
      ]
     },
     "metadata": {
      "needs_background": "light"
     },
     "output_type": "display_data"
    }
   ],
   "source": [
    "model.history.history\n",
    "loss = model.history.history['loss']\n",
    "\n",
    "val_loss = model.history.history['val_loss']\n",
    "\n",
    "fig, ax1 = plt.subplots(figsize=(8,6))\n",
    "\n",
    "color_1 = 'tab:blue'\n",
    "color_2 = 'tab:red'\n",
    "\n",
    "ax1.set_title(\"Training Loss per Epoch\", fontsize=15)\n",
    "ax1.set_xlabel('Epoch', fontsize = 13)\n",
    "ax1.set_ylabel('Loss',fontsize = 13, color=color_1)\n",
    "\n",
    "ax1.plot(range(len(loss)),loss, color=color_1, label = 'train')\n",
    "ax1.plot(range(len(val_loss)),val_loss, color=color_2, label = 'validation')\n",
    "ax1.tick_params(axis='y')\n",
    "ax1.legend()\n",
    "\n",
    "fig.tight_layout()\n",
    "plt.show()"
   ]
  },
  {
   "cell_type": "code",
   "execution_count": 70,
   "id": "09324bc9",
   "metadata": {},
   "outputs": [
    {
     "data": {
      "image/png": "[encoded data removed]",
      "text/plain": [
       "<Figure size 576x432 with 1 Axes>"
      ]
     },
     "metadata": {
      "needs_background": "light"
     },
     "output_type": "display_data"
    }
   ],
   "source": [
    "accuracy = model.history.history['accuracy']\n",
    "val_accuracy = model.history.history['val_accuracy']\n",
    "\n",
    "fig, ax1 = plt.subplots(figsize=(8,6))\n",
    "\n",
    "color_1 = 'tab:blue'\n",
    "color_2 = 'tab:red'\n",
    "\n",
    "ax1.set_title(\"Accuracy per Epoch\", fontsize=15)\n",
    "ax1.set_xlabel('Epoch', fontsize = 13)\n",
    "ax1.set_ylabel('Accuracy',fontsize = 13, color=color_1)\n",
    "\n",
    "ax1.plot(range(len(accuracy)),accuracy, color=color_1, label = 'train')\n",
    "ax1.plot(range(len(val_accuracy)),val_accuracy, color=color_2, label = 'validation')\n",
    "ax1.tick_params(axis='y')\n",
    "ax1.legend()\n",
    "\n",
    "fig.tight_layout()\n",
    "plt.show()"
   ]
  },
  {
   "cell_type": "code",
   "execution_count": 71,
   "id": "e362c938",
   "metadata": {
    "scrolled": false
   },
   "outputs": [
    {
     "name": "stderr",
     "output_type": "stream",
     "text": [
      "2022-08-04 15:09:08.529674: I tensorflow/core/grappler/optimizers/custom_graph_optimizer_registry.cc:113] Plugin optimizer for device_type GPU is enabled.\n",
      "2022-08-04 15:09:08.808580: I tensorflow/core/grappler/optimizers/custom_graph_optimizer_registry.cc:113] Plugin optimizer for device_type GPU is enabled.\n",
      "2022-08-04 15:09:08.815838: I tensorflow/core/grappler/optimizers/custom_graph_optimizer_registry.cc:113] Plugin optimizer for device_type GPU is enabled.\n",
      "2022-08-04 15:09:08.880824: I tensorflow/core/grappler/optimizers/custom_graph_optimizer_registry.cc:113] Plugin optimizer for device_type GPU is enabled.\n",
      "2022-08-04 15:09:08.888258: I tensorflow/core/grappler/optimizers/custom_graph_optimizer_registry.cc:113] Plugin optimizer for device_type GPU is enabled.\n",
      "2022-08-04 15:09:08.960451: I tensorflow/core/grappler/optimizers/custom_graph_optimizer_registry.cc:113] Plugin optimizer for device_type GPU is enabled.\n",
      "2022-08-04 15:09:08.967701: I tensorflow/core/grappler/optimizers/custom_graph_optimizer_registry.cc:113] Plugin optimizer for device_type GPU is enabled.\n"
     ]
    },
    {
     "name": "stdout",
     "output_type": "stream",
     "text": [
      "  4/305 [..............................] - ETA: 6s   "
     ]
    },
    {
     "name": "stderr",
     "output_type": "stream",
     "text": [
      "2022-08-04 15:09:09.021713: I tensorflow/core/grappler/optimizers/custom_graph_optimizer_registry.cc:113] Plugin optimizer for device_type GPU is enabled.\n",
      "2022-08-04 15:09:09.029543: I tensorflow/core/grappler/optimizers/custom_graph_optimizer_registry.cc:113] Plugin optimizer for device_type GPU is enabled.\n"
     ]
    },
    {
     "name": "stdout",
     "output_type": "stream",
     "text": [
      "305/305 [==============================] - 7s 12ms/step\n",
      "              precision    recall  f1-score   support\n",
      "\n",
      "         0.0       0.99      0.99      0.99      3900\n",
      "         1.0       0.99      0.99      0.99      5852\n",
      "\n",
      "    accuracy                           0.99      9752\n",
      "   macro avg       0.99      0.99      0.99      9752\n",
      "weighted avg       0.99      0.99      0.99      9752\n",
      "\n",
      "[[3845   55]\n",
      " [  57 5795]]\n"
     ]
    }
   ],
   "source": [
    "from sklearn.metrics import classification_report,confusion_matrix\n",
    "\n",
    "predictions = (model.predict(X_test) > 0.5).astype(\"int32\")\n",
    "\n",
    "print(classification_report(y_test,predictions))\n",
    "print(confusion_matrix(y_test,predictions))"
   ]
  },
  {
   "cell_type": "code",
   "execution_count": 72,
   "id": "dc2a41e9",
   "metadata": {},
   "outputs": [],
   "source": [
    "model.save(\"Whiskey_LSTM.h5\")"
   ]
  },
  {
   "cell_type": "code",
   "execution_count": null,
   "id": "6d4cf095",
   "metadata": {},
   "outputs": [],
   "source": []
  }
 ],
 "metadata": {
  "kernelspec": {
   "display_name": "Python 3 (ipykernel)",
   "language": "python",
   "name": "python3"
  },
  "language_info": {
   "codemirror_mode": {
    "name": "ipython",
    "version": 3
   },
   "file_extension": ".py",
   "mimetype": "text/x-python",
   "name": "python",
   "nbconvert_exporter": "python",
   "pygments_lexer": "ipython3",
   "version": "3.8.13"
  }
 },
 "nbformat": 4,
 "nbformat_minor": 5
}
