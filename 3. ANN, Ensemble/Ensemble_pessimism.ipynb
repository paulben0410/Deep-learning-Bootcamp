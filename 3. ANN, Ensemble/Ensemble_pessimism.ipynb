{
 "cells": [
  {
   "cell_type": "code",
   "execution_count": 1,
   "id": "46f0a528",
   "metadata": {},
   "outputs": [
    {
     "ename": "TypeError",
     "evalue": "train_test_split() got an unexpected keyword argument 'startify'",
     "output_type": "error",
     "traceback": [
      "\u001b[1;31m---------------------------------------------------------------------------\u001b[0m",
      "\u001b[1;31mTypeError\u001b[0m                                 Traceback (most recent call last)",
      "\u001b[1;32m<ipython-input-1-2e04711b15c1>\u001b[0m in \u001b[0;36m<module>\u001b[1;34m\u001b[0m\n\u001b[0;32m     19\u001b[0m \u001b[1;33m\u001b[0m\u001b[0m\n\u001b[0;32m     20\u001b[0m \u001b[1;32mfrom\u001b[0m \u001b[0msklearn\u001b[0m\u001b[1;33m.\u001b[0m\u001b[0mmodel_selection\u001b[0m \u001b[1;32mimport\u001b[0m \u001b[0mtrain_test_split\u001b[0m\u001b[1;33m\u001b[0m\u001b[1;33m\u001b[0m\u001b[0m\n\u001b[1;32m---> 21\u001b[1;33m \u001b[0mX_train\u001b[0m\u001b[1;33m,\u001b[0m \u001b[0mX_test\u001b[0m\u001b[1;33m,\u001b[0m \u001b[0my_train\u001b[0m\u001b[1;33m,\u001b[0m \u001b[0my_test\u001b[0m \u001b[1;33m=\u001b[0m \u001b[0mtrain_test_split\u001b[0m\u001b[1;33m(\u001b[0m\u001b[0mX\u001b[0m\u001b[1;33m,\u001b[0m\u001b[0my\u001b[0m\u001b[1;33m,\u001b[0m\u001b[0mtest_size\u001b[0m\u001b[1;33m=\u001b[0m\u001b[1;36m0.3\u001b[0m\u001b[1;33m,\u001b[0m\u001b[0mstartify\u001b[0m\u001b[1;33m=\u001b[0m\u001b[0my\u001b[0m\u001b[1;33m,\u001b[0m\u001b[0mrandom_state\u001b[0m\u001b[1;33m=\u001b[0m\u001b[1;36m101\u001b[0m\u001b[1;33m)\u001b[0m\u001b[1;33m\u001b[0m\u001b[1;33m\u001b[0m\u001b[0m\n\u001b[0m",
      "\u001b[1;31mTypeError\u001b[0m: train_test_split() got an unexpected keyword argument 'startify'"
     ]
    }
   ],
   "source": [
    "import numpy as np\n",
    "import pandas as pd\n",
    "import matplotlib.pyplot as plt\n",
    "from matplotlib import rc\n",
    "import seaborn as sns\n",
    "%matplotlib inline\n",
    "\n",
    "df = pd.read_excel('data.xlsx')\n",
    "df.rename(columns=df.iloc[0], inplace=True)\n",
    "df = df.drop(df.index[0])\n",
    "df = df.dropna(subset=['label'])\n",
    "df = df.dropna(axis=1)\n",
    "df = df.drop(columns=['번호','날짜','시간','시편상태','요약','수막두께'])\n",
    "df = df.apply(pd.to_numeric)\n",
    "df.columns\n",
    "\n",
    "X = df.drop('label',axis=1).values\n",
    "y = df['label'].values\n",
    "\n",
    "from sklearn.model_selection import train_test_split\n"
   ]
  },
  {
   "cell_type": "code",
   "execution_count": 2,
   "id": "571361f1",
   "metadata": {},
   "outputs": [],
   "source": [
    "X_train, X_test, y_train, y_test = train_test_split(X,y,test_size=0.3,stratify=y,random_state=101)\n",
    "\n",
    "from sklearn.preprocessing import MinMaxScaler\n",
    "\n",
    "scaler = MinMaxScaler()\n",
    "scaler.fit(X_train)\n",
    "X_train = scaler.transform(X_train)\n",
    "X_test = scaler.transform(X_test)"
   ]
  },
  {
   "cell_type": "code",
   "execution_count": 4,
   "id": "57e6d1fe",
   "metadata": {},
   "outputs": [
    {
     "name": "stdout",
     "output_type": "stream",
     "text": [
      "[[4401  279]\n",
      " [ 475 6548]]\n",
      "              precision    recall  f1-score   support\n",
      "\n",
      "           0       0.90      0.94      0.92      4680\n",
      "           1       0.96      0.93      0.95      7023\n",
      "\n",
      "    accuracy                           0.94     11703\n",
      "   macro avg       0.93      0.94      0.93     11703\n",
      "weighted avg       0.94      0.94      0.94     11703\n",
      "\n"
     ]
    },
    {
     "name": "stderr",
     "output_type": "stream",
     "text": [
      "C:\\Users\\strai\\anaconda3\\lib\\site-packages\\sklearn\\linear_model\\_logistic.py:763: ConvergenceWarning: lbfgs failed to converge (status=1):\n",
      "STOP: TOTAL NO. of ITERATIONS REACHED LIMIT.\n",
      "\n",
      "Increase the number of iterations (max_iter) or scale the data as shown in:\n",
      "    https://scikit-learn.org/stable/modules/preprocessing.html\n",
      "Please also refer to the documentation for alternative solver options:\n",
      "    https://scikit-learn.org/stable/modules/linear_model.html#logistic-regression\n",
      "  n_iter_i = _check_optimize_result(\n"
     ]
    }
   ],
   "source": [
    "######## LogisticRegression ########\n",
    "\n",
    "from sklearn.linear_model import LogisticRegression\n",
    "logmodel = LogisticRegression()\n",
    "logmodel.fit(X_train, y_train)\n",
    "predictions_1 = logmodel.predict(X_test)\n",
    "\n",
    "from sklearn.metrics import confusion_matrix, classification_report\n",
    "print(confusion_matrix(y_test, predictions_1))\n",
    "print(classification_report(y_test, predictions_1))"
   ]
  },
  {
   "cell_type": "code",
   "execution_count": 5,
   "id": "0c60331a",
   "metadata": {},
   "outputs": [
    {
     "name": "stdout",
     "output_type": "stream",
     "text": [
      "[[4499  181]\n",
      " [ 355 6668]]\n",
      "              precision    recall  f1-score   support\n",
      "\n",
      "           0       0.93      0.96      0.94      4680\n",
      "           1       0.97      0.95      0.96      7023\n",
      "\n",
      "    accuracy                           0.95     11703\n",
      "   macro avg       0.95      0.96      0.95     11703\n",
      "weighted avg       0.95      0.95      0.95     11703\n",
      "\n"
     ]
    }
   ],
   "source": [
    "##### Support Vector Machine #####\n",
    "\n",
    "from sklearn.svm import SVC\n",
    "svc_model = SVC()\n",
    "svc_model.fit(X_train,y_train)\n",
    "\n",
    "predictions_2 = svc_model.predict(X_test)\n",
    "print(confusion_matrix(y_test, predictions_2))\n",
    "print(classification_report(y_test, predictions_2))"
   ]
  },
  {
   "cell_type": "code",
   "execution_count": 6,
   "id": "1fd47345",
   "metadata": {},
   "outputs": [
    {
     "name": "stdout",
     "output_type": "stream",
     "text": [
      "[[4317  363]\n",
      " [ 471 6552]]\n",
      "              precision    recall  f1-score   support\n",
      "\n",
      "           0       0.90      0.92      0.91      4680\n",
      "           1       0.95      0.93      0.94      7023\n",
      "\n",
      "    accuracy                           0.93     11703\n",
      "   macro avg       0.92      0.93      0.93     11703\n",
      "weighted avg       0.93      0.93      0.93     11703\n",
      "\n"
     ]
    }
   ],
   "source": [
    "##### SGD Classifier #####\n",
    "\n",
    "from sklearn.linear_model import SGDClassifier\n",
    "\n",
    "sc=SGDClassifier(loss='log',max_iter=100,random_state=42)\n",
    "sc.fit(X_train,y_train)\n",
    "classes=np.unique(y_train)\n",
    "\n",
    "for _ in range(0,300):\n",
    "    sc.partial_fit(X_train,y_train,classes=classes)\n",
    "predictions_3 = sc.predict(X_test)\n",
    "\n",
    "print(confusion_matrix(y_test, predictions_3))\n",
    "print(classification_report(y_test, predictions_3))"
   ]
  },
  {
   "cell_type": "code",
   "execution_count": 9,
   "id": "d1d222bc",
   "metadata": {},
   "outputs": [
    {
     "name": "stdout",
     "output_type": "stream",
     "text": [
      "[[4268  412]\n",
      " [ 310 6713]]\n",
      "              precision    recall  f1-score   support\n",
      "\n",
      "           0       0.93      0.91      0.92      4680\n",
      "           1       0.94      0.96      0.95      7023\n",
      "\n",
      "    accuracy                           0.94     11703\n",
      "   macro avg       0.94      0.93      0.94     11703\n",
      "weighted avg       0.94      0.94      0.94     11703\n",
      "\n"
     ]
    }
   ],
   "source": [
    "##### Ensemble Hard Voting #####\n",
    "\n",
    "predictions=[]\n",
    "\n",
    "for i in range(len(predictions_1)):\n",
    "    if (((predictions_1[i]) + (predictions_2[i]) + (predictions_3[i]))>=1):\n",
    "        predictions.append(1)\n",
    "    else: predictions.append(0)\n",
    "\n",
    "from sklearn.metrics import confusion_matrix, classification_report\n",
    "print(confusion_matrix(y_test, predictions))\n",
    "print(classification_report(y_test, predictions))"
   ]
  },
  {
   "cell_type": "code",
   "execution_count": null,
   "id": "1bb658d7",
   "metadata": {},
   "outputs": [],
   "source": []
  }
 ],
 "metadata": {
  "kernelspec": {
   "display_name": "Python 3",
   "language": "python",
   "name": "python3"
  },
  "language_info": {
   "codemirror_mode": {
    "name": "ipython",
    "version": 3
   },
   "file_extension": ".py",
   "mimetype": "text/x-python",
   "name": "python",
   "nbconvert_exporter": "python",
   "pygments_lexer": "ipython3",
   "version": "3.8.8"
  }
 },
 "nbformat": 4,
 "nbformat_minor": 5
}
